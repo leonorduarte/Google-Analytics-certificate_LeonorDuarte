{
 "cells": [
  {
   "cell_type": "markdown",
   "metadata": {},
   "source": [
    "<h1 style=\"text-align:left;padding:12px;border-radius:4px;color:#fff;margin-top:16px;background:linear-gradient(90deg,#4B0082,#4B0082,#000);box-shadow:0 0 0px #333;\">Leonor Duarte</h1>"
   ]
  },
  {
   "cell_type": "markdown",
   "metadata": {},
   "source": [
    "> **Date Completed:** 2024-11-24"
   ]
  },
  {
   "cell_type": "markdown",
   "metadata": {},
   "source": [
    "## Process Phase (Cleaning Data)\n",
    "\n",
    "The \"Process\" phase is where the collected data is prepared for analysis. This includes tasks like connecting to data sources, cleaning and organizing the data, filtering out unnecessary information, and ensuring the data's reliability.\n",
    "\n",
    "**Deliverable** Documentation of data cleaning and manipulation\n",
    "For this phase, I used **Pandas** to clean and manipulate the data. Here’s a step-by-step breakdown of what I did:\n",
    "\n",
    "1. Imported the monthly data files individually, since each month was stored in a separate file.\n",
    "2. Merged all the monthly files into a single data frame to enable analysis for the entire year (2023).\n",
    "3. Inspected the data by identifying all columns and checking their data types.\n",
    "4. Looked for null values:\n",
    "- Dropped any rows with null values and double-checked to ensure no nulls remained.\n",
    "5. Removed unnecessary columns that didn’t add value to the analysis.\n",
    "6. Checked for duplicate rows:\n",
    "- Deleted any duplicates and verified that no duplicates remained.\n",
    "7. Adjusted data types where needed:\n",
    "- Converted the started_at and ended_at columns from “object” format to a proper datetime format.\n",
    "- Extracted additional details like hour, day, month, and date to create new columns for analysis.\n",
    "- Calculated the ride duration based on the difference between start and end times.\n",
    "8. Standardized the order of days and months to ensure logical sequencing.\n",
    "9. Created a new column, ride_duration, to capture each ride’s duration:\n",
    "- Expressed the duration in minutes (excluding seconds).\n",
    "- Checked for any negative values (as they would indicate errors) and removed rows with invalid durations.\n",
    "10. Exported the cleaned data to a new file for further analysis.\n"
   ]
  },
  {
   "cell_type": "markdown",
   "metadata": {},
   "source": [
    "### 1. Read each csv file individually"
   ]
  },
  {
   "cell_type": "code",
   "execution_count": 63,
   "metadata": {},
   "outputs": [],
   "source": [
    "import pandas as pd\n",
    "\n",
    "# Since the data for each month are in a seperate file, I import each file individually\n",
    "\n",
    "jan_2023 = pd.read_csv('202301-divvy-tripdata.csv')\n",
    "feb_2023 = pd.read_csv('202302-divvy-tripdata.csv')\n",
    "march_2023 = pd.read_csv('202303-divvy-tripdata.csv')\n",
    "april_2023 = pd.read_csv('202304-divvy-tripdata.csv')\n",
    "may_2023 = pd.read_csv('202305-divvy-tripdata.csv')\n",
    "june_2023 = pd.read_csv('202306-divvy-tripdata.csv')\n",
    "july_2023 = pd.read_csv('202307-divvy-tripdata.csv')\n",
    "august_2023 = pd.read_csv('202308-divvy-tripdata.csv')\n",
    "sept_2023 = pd.read_csv('202309-divvy-tripdata.csv')\n",
    "oct_2023 = pd.read_csv('202310-divvy-tripdata.csv')\n",
    "nov_2023 = pd.read_csv('202311-divvy-tripdata.csv')\n",
    "dec_2023 = pd.read_csv('202312-divvy-tripdata.csv')"
   ]
  },
  {
   "cell_type": "markdown",
   "metadata": {},
   "source": [
    "### 2. Merge each month into one single year of 2023"
   ]
  },
  {
   "cell_type": "code",
   "execution_count": 65,
   "metadata": {},
   "outputs": [],
   "source": [
    "# Merge these files into one data frame which enable me to analyze them in term of the year 2023\n",
    "\n",
    "df = pd.concat([jan_2023, feb_2023, march_2023, april_2023, \n",
    "                may_2023, june_2023, july_2023, august_2023, \n",
    "                sept_2023, oct_2023,nov_2023, dec_2023])"
   ]
  },
  {
   "cell_type": "markdown",
   "metadata": {},
   "source": [
    "### 3. Identify the information of the data frame"
   ]
  },
  {
   "cell_type": "code",
   "execution_count": 67,
   "metadata": {},
   "outputs": [
    {
     "name": "stdout",
     "output_type": "stream",
     "text": [
      "<class 'pandas.core.frame.DataFrame'>\n",
      "Index: 5719877 entries, 0 to 224072\n",
      "Data columns (total 13 columns):\n",
      " #   Column              Dtype  \n",
      "---  ------              -----  \n",
      " 0   ride_id             object \n",
      " 1   rideable_type       object \n",
      " 2   started_at          object \n",
      " 3   ended_at            object \n",
      " 4   start_station_name  object \n",
      " 5   start_station_id    object \n",
      " 6   end_station_name    object \n",
      " 7   end_station_id      object \n",
      " 8   start_lat           float64\n",
      " 9   start_lng           float64\n",
      " 10  end_lat             float64\n",
      " 11  end_lng             float64\n",
      " 12  member_casual       object \n",
      "dtypes: float64(4), object(9)\n",
      "memory usage: 610.9+ MB\n"
     ]
    }
   ],
   "source": [
    "# Identify the columns and their respective data type\n",
    "\n",
    "df.info()"
   ]
  },
  {
   "cell_type": "markdown",
   "metadata": {},
   "source": [
    "We can identify that there are a total of 12 columns, 4 of which has the data type **'float64'**, while 9 has the data type **'object'**."
   ]
  },
  {
   "cell_type": "markdown",
   "metadata": {},
   "source": [
    "### 4. Check for null values"
   ]
  },
  {
   "cell_type": "code",
   "execution_count": 70,
   "metadata": {},
   "outputs": [
    {
     "data": {
      "text/plain": [
       "ride_id                    0\n",
       "rideable_type              0\n",
       "started_at                 0\n",
       "ended_at                   0\n",
       "start_station_name    875716\n",
       "start_station_id      875848\n",
       "end_station_name      929202\n",
       "end_station_id        929343\n",
       "start_lat                  0\n",
       "start_lng                  0\n",
       "end_lat                 6990\n",
       "end_lng                 6990\n",
       "member_casual              0\n",
       "dtype: int64"
      ]
     },
     "execution_count": 70,
     "metadata": {},
     "output_type": "execute_result"
    }
   ],
   "source": [
    "# Check the amount of null values for each column\n",
    "\n",
    "df.isnull().sum()"
   ]
  },
  {
   "cell_type": "markdown",
   "metadata": {},
   "source": [
    "From the result, we can identify that there are around 70k null values for some of the columns."
   ]
  },
  {
   "cell_type": "code",
   "execution_count": 72,
   "metadata": {},
   "outputs": [
    {
     "data": {
      "text/plain": [
       "ride_id               0\n",
       "rideable_type         0\n",
       "started_at            0\n",
       "ended_at              0\n",
       "start_station_name    0\n",
       "start_station_id      0\n",
       "end_station_name      0\n",
       "end_station_id        0\n",
       "start_lat             0\n",
       "start_lng             0\n",
       "end_lat               0\n",
       "end_lng               0\n",
       "member_casual         0\n",
       "dtype: int64"
      ]
     },
     "execution_count": 72,
     "metadata": {},
     "output_type": "execute_result"
    }
   ],
   "source": [
    "# Delete the null values, then reconfirm that the amount of null values are now 0\n",
    "\n",
    "df.dropna(inplace = True)\n",
    "df.isnull().sum() "
   ]
  },
  {
   "cell_type": "markdown",
   "metadata": {},
   "source": [
    "After dropping the null values, the result now shows that there are no longer any null values."
   ]
  },
  {
   "cell_type": "markdown",
   "metadata": {},
   "source": [
    "### 5. Delete columns that are unnecessary"
   ]
  },
  {
   "cell_type": "code",
   "execution_count": 75,
   "metadata": {},
   "outputs": [
    {
     "name": "stdout",
     "output_type": "stream",
     "text": [
      "<class 'pandas.core.frame.DataFrame'>\n",
      "Index: 4331707 entries, 0 to 224072\n",
      "Data columns (total 5 columns):\n",
      " #   Column         Dtype \n",
      "---  ------         ----- \n",
      " 0   ride_id        object\n",
      " 1   rideable_type  object\n",
      " 2   started_at     object\n",
      " 3   ended_at       object\n",
      " 4   member_casual  object\n",
      "dtypes: object(5)\n",
      "memory usage: 198.3+ MB\n"
     ]
    }
   ],
   "source": [
    "df = df.drop(['start_station_name', 'start_station_id', 'end_station_name', 'end_station_id',\n",
    "             'start_lat', 'start_lng', 'end_lat', 'end_lng'], axis=1)\n",
    "\n",
    "df.info()"
   ]
  },
  {
   "cell_type": "markdown",
   "metadata": {},
   "source": [
    "Since there are certain columns that will not be analyze, it is better to drop them completely for the purpose of clarity and neatness, sometimes less is more."
   ]
  },
  {
   "cell_type": "markdown",
   "metadata": {},
   "source": [
    "### 6. Check for duplicated values"
   ]
  },
  {
   "cell_type": "code",
   "execution_count": 78,
   "metadata": {},
   "outputs": [
    {
     "data": {
      "text/plain": [
       "0"
      ]
     },
     "execution_count": 78,
     "metadata": {},
     "output_type": "execute_result"
    }
   ],
   "source": [
    "df.duplicated().sum()"
   ]
  },
  {
   "cell_type": "markdown",
   "metadata": {},
   "source": [
    "We are all good to go since there are no duplicated values, if there are, we should drop them too."
   ]
  },
  {
   "cell_type": "markdown",
   "metadata": {},
   "source": [
    "### 7. Convert column data type "
   ]
  },
  {
   "cell_type": "markdown",
   "metadata": {},
   "source": [
    "We will be converting the column type for two columns, __**started_at**__ column and __**ended_at**__ column from the data type **\"object\"** to the data type **\"datetime64\"**\n",
    "\n",
    "There are 2 reasons for this:\n",
    "- To **extract the hour, day, month and date** to form new columns based on them\n",
    "- To calculate the **ride duration**"
   ]
  },
  {
   "cell_type": "code",
   "execution_count": 82,
   "metadata": {},
   "outputs": [
    {
     "name": "stdout",
     "output_type": "stream",
     "text": [
      "<class 'pandas.core.frame.DataFrame'>\n",
      "Index: 4331707 entries, 0 to 224072\n",
      "Data columns (total 5 columns):\n",
      " #   Column         Dtype \n",
      "---  ------         ----- \n",
      " 0   ride_id        object\n",
      " 1   rideable_type  object\n",
      " 2   started_at     object\n",
      " 3   ended_at       object\n",
      " 4   member_casual  object\n",
      "dtypes: object(5)\n",
      "memory usage: 198.3+ MB\n"
     ]
    }
   ],
   "source": [
    "# To check the current data type\n",
    "df.info() "
   ]
  },
  {
   "cell_type": "code",
   "execution_count": 83,
   "metadata": {},
   "outputs": [
    {
     "name": "stdout",
     "output_type": "stream",
     "text": [
      "<class 'pandas.core.frame.DataFrame'>\n",
      "Index: 4331707 entries, 0 to 224072\n",
      "Data columns (total 5 columns):\n",
      " #   Column         Dtype         \n",
      "---  ------         -----         \n",
      " 0   ride_id        object        \n",
      " 1   rideable_type  object        \n",
      " 2   started_at     datetime64[ns]\n",
      " 3   ended_at       datetime64[ns]\n",
      " 4   member_casual  object        \n",
      "dtypes: datetime64[ns](2), object(3)\n",
      "memory usage: 198.3+ MB\n"
     ]
    }
   ],
   "source": [
    "import pandas as pd\n",
    "\n",
    "# Convert the columns to datetime, coercing errors to NaT\n",
    "df[\"started_at\"] = pd.to_datetime(df[\"started_at\"], errors='coerce')\n",
    "df[\"ended_at\"] = pd.to_datetime(df[\"ended_at\"], errors='coerce')\n",
    "\n",
    "# To check the updated data type\n",
    "df.info()"
   ]
  },
  {
   "cell_type": "markdown",
   "metadata": {},
   "source": [
    "We have successfully conver the data type from **\"object\"** to **\"datetime64\"**"
   ]
  },
  {
   "cell_type": "markdown",
   "metadata": {},
   "source": [
    "### 8. Create new columns that specify the hour, the day, the month, the year of each ride. "
   ]
  },
  {
   "cell_type": "code",
   "execution_count": 86,
   "metadata": {},
   "outputs": [
    {
     "data": {
      "text/html": [
       "<div>\n",
       "<style scoped>\n",
       "    .dataframe tbody tr th:only-of-type {\n",
       "        vertical-align: middle;\n",
       "    }\n",
       "\n",
       "    .dataframe tbody tr th {\n",
       "        vertical-align: top;\n",
       "    }\n",
       "\n",
       "    .dataframe thead th {\n",
       "        text-align: right;\n",
       "    }\n",
       "</style>\n",
       "<table border=\"1\" class=\"dataframe\">\n",
       "  <thead>\n",
       "    <tr style=\"text-align: right;\">\n",
       "      <th></th>\n",
       "      <th>ride_id</th>\n",
       "      <th>rideable_type</th>\n",
       "      <th>started_at</th>\n",
       "      <th>ended_at</th>\n",
       "      <th>member_casual</th>\n",
       "      <th>hour</th>\n",
       "      <th>day</th>\n",
       "      <th>date</th>\n",
       "      <th>month</th>\n",
       "      <th>year</th>\n",
       "    </tr>\n",
       "  </thead>\n",
       "  <tbody>\n",
       "    <tr>\n",
       "      <th>0</th>\n",
       "      <td>F96D5A74A3E41399</td>\n",
       "      <td>electric_bike</td>\n",
       "      <td>2023-01-21 20:05:42</td>\n",
       "      <td>2023-01-21 20:16:33</td>\n",
       "      <td>member</td>\n",
       "      <td>20</td>\n",
       "      <td>Saturday</td>\n",
       "      <td>21</td>\n",
       "      <td>January</td>\n",
       "      <td>2023</td>\n",
       "    </tr>\n",
       "    <tr>\n",
       "      <th>1</th>\n",
       "      <td>13CB7EB698CEDB88</td>\n",
       "      <td>classic_bike</td>\n",
       "      <td>2023-01-10 15:37:36</td>\n",
       "      <td>2023-01-10 15:46:05</td>\n",
       "      <td>member</td>\n",
       "      <td>15</td>\n",
       "      <td>Tuesday</td>\n",
       "      <td>10</td>\n",
       "      <td>January</td>\n",
       "      <td>2023</td>\n",
       "    </tr>\n",
       "    <tr>\n",
       "      <th>2</th>\n",
       "      <td>BD88A2E670661CE5</td>\n",
       "      <td>electric_bike</td>\n",
       "      <td>2023-01-02 07:51:57</td>\n",
       "      <td>2023-01-02 08:05:11</td>\n",
       "      <td>casual</td>\n",
       "      <td>7</td>\n",
       "      <td>Monday</td>\n",
       "      <td>2</td>\n",
       "      <td>January</td>\n",
       "      <td>2023</td>\n",
       "    </tr>\n",
       "    <tr>\n",
       "      <th>3</th>\n",
       "      <td>C90792D034FED968</td>\n",
       "      <td>classic_bike</td>\n",
       "      <td>2023-01-22 10:52:58</td>\n",
       "      <td>2023-01-22 11:01:44</td>\n",
       "      <td>member</td>\n",
       "      <td>10</td>\n",
       "      <td>Sunday</td>\n",
       "      <td>22</td>\n",
       "      <td>January</td>\n",
       "      <td>2023</td>\n",
       "    </tr>\n",
       "    <tr>\n",
       "      <th>4</th>\n",
       "      <td>3397017529188E8A</td>\n",
       "      <td>classic_bike</td>\n",
       "      <td>2023-01-12 13:58:01</td>\n",
       "      <td>2023-01-12 14:13:20</td>\n",
       "      <td>member</td>\n",
       "      <td>13</td>\n",
       "      <td>Thursday</td>\n",
       "      <td>12</td>\n",
       "      <td>January</td>\n",
       "      <td>2023</td>\n",
       "    </tr>\n",
       "  </tbody>\n",
       "</table>\n",
       "</div>"
      ],
      "text/plain": [
       "            ride_id  rideable_type          started_at            ended_at  \\\n",
       "0  F96D5A74A3E41399  electric_bike 2023-01-21 20:05:42 2023-01-21 20:16:33   \n",
       "1  13CB7EB698CEDB88   classic_bike 2023-01-10 15:37:36 2023-01-10 15:46:05   \n",
       "2  BD88A2E670661CE5  electric_bike 2023-01-02 07:51:57 2023-01-02 08:05:11   \n",
       "3  C90792D034FED968   classic_bike 2023-01-22 10:52:58 2023-01-22 11:01:44   \n",
       "4  3397017529188E8A   classic_bike 2023-01-12 13:58:01 2023-01-12 14:13:20   \n",
       "\n",
       "  member_casual  hour       day  date    month  year  \n",
       "0        member    20  Saturday    21  January  2023  \n",
       "1        member    15   Tuesday    10  January  2023  \n",
       "2        casual     7    Monday     2  January  2023  \n",
       "3        member    10    Sunday    22  January  2023  \n",
       "4        member    13  Thursday    12  January  2023  "
      ]
     },
     "execution_count": 86,
     "metadata": {},
     "output_type": "execute_result"
    }
   ],
   "source": [
    "df['hour'] = df['started_at'].dt.hour # Toextract the hour\n",
    "df['day'] = df['started_at'].dt.day_name() # Toextract the day of the week\n",
    "df['date'] = df['started_at'].dt.day #To extract the date\n",
    "df['month'] = df['started_at'].dt.month_name() # To extract the month\n",
    "df['year'] = df['started_at'].dt.year #To extract the year\n",
    "\n",
    "\n",
    "df.head()"
   ]
  },
  {
   "cell_type": "markdown",
   "metadata": {},
   "source": [
    "### 9. Check the order of the day, month"
   ]
  },
  {
   "cell_type": "code",
   "execution_count": 88,
   "metadata": {},
   "outputs": [
    {
     "data": {
      "text/plain": [
       "member_casual  day      \n",
       "casual         Friday       227869\n",
       "               Monday       175401\n",
       "               Saturday     310166\n",
       "               Sunday       254761\n",
       "               Thursday     198931\n",
       "               Tuesday      181537\n",
       "               Wednesday    183092\n",
       "member         Friday       400507\n",
       "               Monday       386697\n",
       "               Saturday     350645\n",
       "               Sunday       307870\n",
       "               Thursday     452660\n",
       "               Tuesday      448850\n",
       "               Wednesday    452721\n",
       "Name: ride_id, dtype: int64"
      ]
     },
     "execution_count": 88,
     "metadata": {},
     "output_type": "execute_result"
    }
   ],
   "source": [
    "df.groupby(['member_casual', 'day'])['ride_id'].count() # Check order for the day"
   ]
  },
  {
   "cell_type": "markdown",
   "metadata": {},
   "source": [
    "The days are not arranged in the order that we want, so we have to arrange them"
   ]
  },
  {
   "cell_type": "code",
   "execution_count": 90,
   "metadata": {},
   "outputs": [
    {
     "name": "stderr",
     "output_type": "stream",
     "text": [
      "/var/folders/l7/hmlvpv4n2fxbqscfltbz2d_40000gn/T/ipykernel_18423/3152813243.py:4: FutureWarning: The default of observed=False is deprecated and will be changed to True in a future version of pandas. Pass observed=False to retain current behavior or observed=True to adopt the future default and silence this warning.\n",
      "  df.groupby(['member_casual', 'day'])['ride_id'].count()\n"
     ]
    },
    {
     "data": {
      "text/plain": [
       "member_casual  day      \n",
       "casual         Monday       175401\n",
       "               Tuesday      181537\n",
       "               Wednesday    183092\n",
       "               Thursday     198931\n",
       "               Friday       227869\n",
       "               Saturday     310166\n",
       "               Sunday       254761\n",
       "member         Monday       386697\n",
       "               Tuesday      448850\n",
       "               Wednesday    452721\n",
       "               Thursday     452660\n",
       "               Friday       400507\n",
       "               Saturday     350645\n",
       "               Sunday       307870\n",
       "Name: ride_id, dtype: int64"
      ]
     },
     "execution_count": 90,
     "metadata": {},
     "output_type": "execute_result"
    }
   ],
   "source": [
    "day_ordered = ['Monday', 'Tuesday', 'Wednesday', 'Thursday', 'Friday', 'Saturday', 'Sunday']\n",
    "\n",
    "df['day'] = pd.Categorical(df['day'], categories=day_ordered, ordered=True)\n",
    "df.groupby(['member_casual', 'day'])['ride_id'].count() "
   ]
  },
  {
   "cell_type": "markdown",
   "metadata": {},
   "source": [
    "The days are now ordered accordingly as we want, which is Monday - Friday."
   ]
  },
  {
   "cell_type": "code",
   "execution_count": 92,
   "metadata": {},
   "outputs": [
    {
     "data": {
      "text/plain": [
       "member_casual  month    \n",
       "casual         April        110538\n",
       "               August       233856\n",
       "               December      36686\n",
       "               February      32776\n",
       "               January       29621\n",
       "               July         245294\n",
       "               June         219794\n",
       "               March         46792\n",
       "               May          177039\n",
       "               November      72097\n",
       "               October      130300\n",
       "               September    196964\n",
       "member         April        213659\n",
       "               August       351063\n",
       "               December     130457\n",
       "               February     116784\n",
       "               January      118663\n",
       "               July         328664\n",
       "               June         314964\n",
       "               March        153655\n",
       "               May          286188\n",
       "               November     202701\n",
       "               October      273481\n",
       "               September    309671\n",
       "Name: ride_id, dtype: int64"
      ]
     },
     "execution_count": 92,
     "metadata": {},
     "output_type": "execute_result"
    }
   ],
   "source": [
    "# Now we repeat for the month\n",
    "\n",
    "df.groupby(['member_casual', 'month'])['ride_id'].count() # Check order for the month"
   ]
  },
  {
   "cell_type": "markdown",
   "metadata": {},
   "source": [
    "The months are not arranged in the order that we want, so we have to arrange them."
   ]
  },
  {
   "cell_type": "code",
   "execution_count": 94,
   "metadata": {},
   "outputs": [
    {
     "name": "stderr",
     "output_type": "stream",
     "text": [
      "/var/folders/l7/hmlvpv4n2fxbqscfltbz2d_40000gn/T/ipykernel_18423/195444796.py:7: FutureWarning: The default of observed=False is deprecated and will be changed to True in a future version of pandas. Pass observed=False to retain current behavior or observed=True to adopt the future default and silence this warning.\n",
      "  df.groupby(['member_casual', 'month'])['ride_id'].count()\n"
     ]
    },
    {
     "data": {
      "text/plain": [
       "member_casual  month    \n",
       "casual         January       29621\n",
       "               February      32776\n",
       "               March         46792\n",
       "               April        110538\n",
       "               May          177039\n",
       "               June         219794\n",
       "               July         245294\n",
       "               August       233856\n",
       "               September    196964\n",
       "               October      130300\n",
       "               November      72097\n",
       "               December      36686\n",
       "member         January      118663\n",
       "               February     116784\n",
       "               March        153655\n",
       "               April        213659\n",
       "               May          286188\n",
       "               June         314964\n",
       "               July         328664\n",
       "               August       351063\n",
       "               September    309671\n",
       "               October      273481\n",
       "               November     202701\n",
       "               December     130457\n",
       "Name: ride_id, dtype: int64"
      ]
     },
     "execution_count": 94,
     "metadata": {},
     "output_type": "execute_result"
    }
   ],
   "source": [
    "# Arrange the month\n",
    "\n",
    "month_ordered = ['January', 'February', 'March', 'April', 'May', 'June', 'July', 'August', 'September', 'October',\n",
    "               'November', 'December']\n",
    "\n",
    "df['month'] = pd.Categorical(df['month'], categories=month_ordered, ordered=True)\n",
    "df.groupby(['member_casual', 'month'])['ride_id'].count() "
   ]
  },
  {
   "cell_type": "markdown",
   "metadata": {},
   "source": [
    "Perfect! The months are now arranged as wanted, which is January - December."
   ]
  },
  {
   "cell_type": "markdown",
   "metadata": {},
   "source": [
    "### 10. Create new column that calculate the duration of each ride"
   ]
  },
  {
   "cell_type": "code",
   "execution_count": 97,
   "metadata": {},
   "outputs": [
    {
     "data": {
      "text/html": [
       "<div>\n",
       "<style scoped>\n",
       "    .dataframe tbody tr th:only-of-type {\n",
       "        vertical-align: middle;\n",
       "    }\n",
       "\n",
       "    .dataframe tbody tr th {\n",
       "        vertical-align: top;\n",
       "    }\n",
       "\n",
       "    .dataframe thead th {\n",
       "        text-align: right;\n",
       "    }\n",
       "</style>\n",
       "<table border=\"1\" class=\"dataframe\">\n",
       "  <thead>\n",
       "    <tr style=\"text-align: right;\">\n",
       "      <th></th>\n",
       "      <th>ride_id</th>\n",
       "      <th>rideable_type</th>\n",
       "      <th>started_at</th>\n",
       "      <th>ended_at</th>\n",
       "      <th>member_casual</th>\n",
       "      <th>hour</th>\n",
       "      <th>day</th>\n",
       "      <th>date</th>\n",
       "      <th>month</th>\n",
       "      <th>year</th>\n",
       "      <th>ride_duration</th>\n",
       "    </tr>\n",
       "  </thead>\n",
       "  <tbody>\n",
       "    <tr>\n",
       "      <th>0</th>\n",
       "      <td>F96D5A74A3E41399</td>\n",
       "      <td>electric_bike</td>\n",
       "      <td>2023-01-21 20:05:42</td>\n",
       "      <td>2023-01-21 20:16:33</td>\n",
       "      <td>member</td>\n",
       "      <td>20</td>\n",
       "      <td>Saturday</td>\n",
       "      <td>21</td>\n",
       "      <td>January</td>\n",
       "      <td>2023</td>\n",
       "      <td>10.850000</td>\n",
       "    </tr>\n",
       "    <tr>\n",
       "      <th>1</th>\n",
       "      <td>13CB7EB698CEDB88</td>\n",
       "      <td>classic_bike</td>\n",
       "      <td>2023-01-10 15:37:36</td>\n",
       "      <td>2023-01-10 15:46:05</td>\n",
       "      <td>member</td>\n",
       "      <td>15</td>\n",
       "      <td>Tuesday</td>\n",
       "      <td>10</td>\n",
       "      <td>January</td>\n",
       "      <td>2023</td>\n",
       "      <td>8.483333</td>\n",
       "    </tr>\n",
       "    <tr>\n",
       "      <th>2</th>\n",
       "      <td>BD88A2E670661CE5</td>\n",
       "      <td>electric_bike</td>\n",
       "      <td>2023-01-02 07:51:57</td>\n",
       "      <td>2023-01-02 08:05:11</td>\n",
       "      <td>casual</td>\n",
       "      <td>7</td>\n",
       "      <td>Monday</td>\n",
       "      <td>2</td>\n",
       "      <td>January</td>\n",
       "      <td>2023</td>\n",
       "      <td>13.233333</td>\n",
       "    </tr>\n",
       "    <tr>\n",
       "      <th>3</th>\n",
       "      <td>C90792D034FED968</td>\n",
       "      <td>classic_bike</td>\n",
       "      <td>2023-01-22 10:52:58</td>\n",
       "      <td>2023-01-22 11:01:44</td>\n",
       "      <td>member</td>\n",
       "      <td>10</td>\n",
       "      <td>Sunday</td>\n",
       "      <td>22</td>\n",
       "      <td>January</td>\n",
       "      <td>2023</td>\n",
       "      <td>8.766667</td>\n",
       "    </tr>\n",
       "    <tr>\n",
       "      <th>4</th>\n",
       "      <td>3397017529188E8A</td>\n",
       "      <td>classic_bike</td>\n",
       "      <td>2023-01-12 13:58:01</td>\n",
       "      <td>2023-01-12 14:13:20</td>\n",
       "      <td>member</td>\n",
       "      <td>13</td>\n",
       "      <td>Thursday</td>\n",
       "      <td>12</td>\n",
       "      <td>January</td>\n",
       "      <td>2023</td>\n",
       "      <td>15.316667</td>\n",
       "    </tr>\n",
       "  </tbody>\n",
       "</table>\n",
       "</div>"
      ],
      "text/plain": [
       "            ride_id  rideable_type          started_at            ended_at  \\\n",
       "0  F96D5A74A3E41399  electric_bike 2023-01-21 20:05:42 2023-01-21 20:16:33   \n",
       "1  13CB7EB698CEDB88   classic_bike 2023-01-10 15:37:36 2023-01-10 15:46:05   \n",
       "2  BD88A2E670661CE5  electric_bike 2023-01-02 07:51:57 2023-01-02 08:05:11   \n",
       "3  C90792D034FED968   classic_bike 2023-01-22 10:52:58 2023-01-22 11:01:44   \n",
       "4  3397017529188E8A   classic_bike 2023-01-12 13:58:01 2023-01-12 14:13:20   \n",
       "\n",
       "  member_casual  hour       day  date    month  year  ride_duration  \n",
       "0        member    20  Saturday    21  January  2023      10.850000  \n",
       "1        member    15   Tuesday    10  January  2023       8.483333  \n",
       "2        casual     7    Monday     2  January  2023      13.233333  \n",
       "3        member    10    Sunday    22  January  2023       8.766667  \n",
       "4        member    13  Thursday    12  January  2023      15.316667  "
      ]
     },
     "execution_count": 97,
     "metadata": {},
     "output_type": "execute_result"
    }
   ],
   "source": [
    "df['ride_duration'] = (df['ended_at'] - df['started_at'])/ pd.Timedelta(minutes=1) \n",
    "#Express the ride duration in terms of only minutes , and not minutes and seconds\n",
    "\n",
    "df.head()"
   ]
  },
  {
   "cell_type": "markdown",
   "metadata": {},
   "source": [
    "### 11. Verify if there are negative values for the duration of ride, which is not logical"
   ]
  },
  {
   "cell_type": "code",
   "execution_count": 99,
   "metadata": {},
   "outputs": [
    {
     "data": {
      "text/plain": [
       "ride_id          66\n",
       "rideable_type    66\n",
       "started_at       66\n",
       "ended_at         66\n",
       "member_casual    66\n",
       "hour             66\n",
       "day              66\n",
       "date             66\n",
       "month            66\n",
       "year             66\n",
       "ride_duration    66\n",
       "dtype: int64"
      ]
     },
     "execution_count": 99,
     "metadata": {},
     "output_type": "execute_result"
    }
   ],
   "source": [
    "df[df['ride_duration'] < 0].count()"
   ]
  },
  {
   "cell_type": "markdown",
   "metadata": {},
   "source": [
    "Apparently there are 66 rides with negative durations which are not logical, so we have to delete them."
   ]
  },
  {
   "cell_type": "code",
   "execution_count": 101,
   "metadata": {},
   "outputs": [
    {
     "data": {
      "text/plain": [
       "ride_id          0\n",
       "rideable_type    0\n",
       "started_at       0\n",
       "ended_at         0\n",
       "member_casual    0\n",
       "hour             0\n",
       "day              0\n",
       "date             0\n",
       "month            0\n",
       "year             0\n",
       "ride_duration    0\n",
       "dtype: int64"
      ]
     },
     "execution_count": 101,
     "metadata": {},
     "output_type": "execute_result"
    }
   ],
   "source": [
    "df = df[df['ride_duration'] > 0] # Remove the rows\n",
    "df[df['ride_duration'] < 0].count() # Verify"
   ]
  },
  {
   "cell_type": "markdown",
   "metadata": {},
   "source": [
    "We reconfirmed now that the rides with negative durations have been succesfully ommitted."
   ]
  },
  {
   "cell_type": "code",
   "execution_count": 103,
   "metadata": {},
   "outputs": [
    {
     "data": {
      "text/html": [
       "<div>\n",
       "<style scoped>\n",
       "    .dataframe tbody tr th:only-of-type {\n",
       "        vertical-align: middle;\n",
       "    }\n",
       "\n",
       "    .dataframe tbody tr th {\n",
       "        vertical-align: top;\n",
       "    }\n",
       "\n",
       "    .dataframe thead th {\n",
       "        text-align: right;\n",
       "    }\n",
       "</style>\n",
       "<table border=\"1\" class=\"dataframe\">\n",
       "  <thead>\n",
       "    <tr style=\"text-align: right;\">\n",
       "      <th></th>\n",
       "      <th>ride_id</th>\n",
       "      <th>rideable_type</th>\n",
       "      <th>started_at</th>\n",
       "      <th>ended_at</th>\n",
       "      <th>member_casual</th>\n",
       "      <th>hour</th>\n",
       "      <th>day</th>\n",
       "      <th>date</th>\n",
       "      <th>month</th>\n",
       "      <th>year</th>\n",
       "      <th>ride_duration</th>\n",
       "    </tr>\n",
       "  </thead>\n",
       "  <tbody>\n",
       "    <tr>\n",
       "      <th>116135</th>\n",
       "      <td>313A782481C750EA</td>\n",
       "      <td>classic_bike</td>\n",
       "      <td>2023-03-14 18:18:38</td>\n",
       "      <td>2023-03-14 18:18:39</td>\n",
       "      <td>member</td>\n",
       "      <td>18</td>\n",
       "      <td>Tuesday</td>\n",
       "      <td>14</td>\n",
       "      <td>March</td>\n",
       "      <td>2023</td>\n",
       "      <td>0.016667</td>\n",
       "    </tr>\n",
       "    <tr>\n",
       "      <th>183114</th>\n",
       "      <td>7A74F37BDE10C496</td>\n",
       "      <td>classic_bike</td>\n",
       "      <td>2023-01-03 17:22:24</td>\n",
       "      <td>2023-01-03 17:22:25</td>\n",
       "      <td>member</td>\n",
       "      <td>17</td>\n",
       "      <td>Tuesday</td>\n",
       "      <td>3</td>\n",
       "      <td>January</td>\n",
       "      <td>2023</td>\n",
       "      <td>0.016667</td>\n",
       "    </tr>\n",
       "    <tr>\n",
       "      <th>170985</th>\n",
       "      <td>2AFCFA391BCFE240</td>\n",
       "      <td>electric_bike</td>\n",
       "      <td>2023-12-11 16:47:18</td>\n",
       "      <td>2023-12-11 16:47:19</td>\n",
       "      <td>member</td>\n",
       "      <td>16</td>\n",
       "      <td>Monday</td>\n",
       "      <td>11</td>\n",
       "      <td>December</td>\n",
       "      <td>2023</td>\n",
       "      <td>0.016667</td>\n",
       "    </tr>\n",
       "    <tr>\n",
       "      <th>234797</th>\n",
       "      <td>4D6000EF6C7B7E1D</td>\n",
       "      <td>classic_bike</td>\n",
       "      <td>2023-10-17 17:18:00</td>\n",
       "      <td>2023-10-17 17:18:01</td>\n",
       "      <td>member</td>\n",
       "      <td>17</td>\n",
       "      <td>Tuesday</td>\n",
       "      <td>17</td>\n",
       "      <td>October</td>\n",
       "      <td>2023</td>\n",
       "      <td>0.016667</td>\n",
       "    </tr>\n",
       "    <tr>\n",
       "      <th>168477</th>\n",
       "      <td>F2D56971A4699C88</td>\n",
       "      <td>classic_bike</td>\n",
       "      <td>2023-09-18 17:39:30</td>\n",
       "      <td>2023-09-18 17:39:31</td>\n",
       "      <td>member</td>\n",
       "      <td>17</td>\n",
       "      <td>Monday</td>\n",
       "      <td>18</td>\n",
       "      <td>September</td>\n",
       "      <td>2023</td>\n",
       "      <td>0.016667</td>\n",
       "    </tr>\n",
       "  </tbody>\n",
       "</table>\n",
       "</div>"
      ],
      "text/plain": [
       "                 ride_id  rideable_type          started_at  \\\n",
       "116135  313A782481C750EA   classic_bike 2023-03-14 18:18:38   \n",
       "183114  7A74F37BDE10C496   classic_bike 2023-01-03 17:22:24   \n",
       "170985  2AFCFA391BCFE240  electric_bike 2023-12-11 16:47:18   \n",
       "234797  4D6000EF6C7B7E1D   classic_bike 2023-10-17 17:18:00   \n",
       "168477  F2D56971A4699C88   classic_bike 2023-09-18 17:39:30   \n",
       "\n",
       "                  ended_at member_casual  hour      day  date      month  \\\n",
       "116135 2023-03-14 18:18:39        member    18  Tuesday    14      March   \n",
       "183114 2023-01-03 17:22:25        member    17  Tuesday     3    January   \n",
       "170985 2023-12-11 16:47:19        member    16   Monday    11   December   \n",
       "234797 2023-10-17 17:18:01        member    17  Tuesday    17    October   \n",
       "168477 2023-09-18 17:39:31        member    17   Monday    18  September   \n",
       "\n",
       "        year  ride_duration  \n",
       "116135  2023       0.016667  \n",
       "183114  2023       0.016667  \n",
       "170985  2023       0.016667  \n",
       "234797  2023       0.016667  \n",
       "168477  2023       0.016667  "
      ]
     },
     "execution_count": 103,
     "metadata": {},
     "output_type": "execute_result"
    }
   ],
   "source": [
    "df.sort_values(by = ['ride_duration'], ascending = True).head()"
   ]
  },
  {
   "cell_type": "markdown",
   "metadata": {},
   "source": [
    "We can also verify by sorting the duration ascendingly, then identify whether the smallest value is positive.\n",
    "\n",
    "We can see that the shortest duration which is 0.167 minute is positive, therefore all the negative values have been deleted succesfully."
   ]
  },
  {
   "cell_type": "markdown",
   "metadata": {},
   "source": [
    "### 12. Export the cleaned file."
   ]
  },
  {
   "cell_type": "markdown",
   "metadata": {},
   "source": [
    "The file has been fully cleaned according to our needs, so we can export it as a new file."
   ]
  },
  {
   "cell_type": "code",
   "execution_count": 107,
   "metadata": {},
   "outputs": [],
   "source": [
    "df.to_csv(\"cycle_cleaned.csv\")"
   ]
  }
 ],
 "metadata": {
  "kernelspec": {
   "display_name": "Python 3 (ipykernel)",
   "language": "python",
   "name": "python3"
  },
  "language_info": {
   "codemirror_mode": {
    "name": "ipython",
    "version": 3
   },
   "file_extension": ".py",
   "mimetype": "text/x-python",
   "name": "python",
   "nbconvert_exporter": "python",
   "pygments_lexer": "ipython3",
   "version": "3.12.2"
  }
 },
 "nbformat": 4,
 "nbformat_minor": 4
}
